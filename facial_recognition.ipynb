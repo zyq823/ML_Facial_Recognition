{
  "nbformat": 4,
  "nbformat_minor": 0,
  "metadata": {
    "accelerator": "GPU",
    "colab": {
      "name": "Untitled0.ipynb",
      "provenance": [],
      "authorship_tag": "ABX9TyOn5pDg+lbHFROGQx8RzLnK",
      "include_colab_link": true
    },
    "kernelspec": {
      "display_name": "Python 3",
      "name": "python3"
    }
  },
  "cells": [
    {
      "cell_type": "markdown",
      "metadata": {
        "id": "view-in-github",
        "colab_type": "text"
      },
      "source": [
        "<a href=\"https://colab.research.google.com/github/zyq823/ML_Facial_Recognition/blob/master/facial_recognition.ipynb\" target=\"_parent\"><img src=\"https://colab.research.google.com/assets/colab-badge.svg\" alt=\"Open In Colab\"/></a>"
      ]
    },
    {
      "cell_type": "code",
      "metadata": {
        "id": "jz_r20yZYXHo"
      },
      "source": [
        ""
      ],
      "execution_count": null,
      "outputs": []
    },
    {
      "cell_type": "code",
      "metadata": {
        "id": "IOIax1FBYbcr",
        "outputId": "1275d545-9f12-4184-8b2c-bc940d6705e4",
        "colab": {
          "base_uri": "https://localhost:8080/",
          "height": 139
        }
      },
      "source": [
        "import numpy as np\n",
        "import math\n",
        "import warnings\n",
        "warnings.filterwarnings(\"ignore\")\n",
        "import matplotlib.pyplot as plt\n",
        "from keras.utils import to_categorical\n",
        "\n",
        "from keras.models import Sequential\n",
        "from keras.layers import Dense, Dropout\n",
        "\n",
        "\n",
        "# initialization for Question 2\n",
        "\n",
        "def parse_dataset(filename):\n",
        "    data_file = open(filename, 'r')  # Open File \"to read\"\n",
        "    \n",
        "    images = []\n",
        "    labels = []\n",
        "\n",
        "    for i, image in enumerate(data_file):\n",
        "        if i == 0:\n",
        "            continue # ignore headers\n",
        "        emotion, pixelStr = image.strip().split(',')  # strip() removes '\\n', and split(',') splits the line at tabs\n",
        "        pixel_list = pixelStr.split()\n",
        "        map_pixel = map(float, pixel_list)\n",
        "        pixels = list(map_pixel)\n",
        "        \n",
        "        labels.append(int(emotion)) \n",
        "        images.append(pixels) \n",
        "    image1D = np.array(images)\n",
        "    label1D = np.array(labels)\n",
        "    image3D = image1D.reshape(len(labels), 48, 48)\n",
        "        \n",
        "    print(\"Number of samples by emotion: Angry - {0} , Disgust - {1} , Fear - {2} , Happy - {3} , Sad - {4} , Surprise - {5} , Neutral - {6}\".format(len([i for i in label1D if i == 0]), len([i for i in label1D if i == 1]), len([i for i in label1D if i == 2]), len([i for i in label1D if i == 3]), len([i for i in label1D if i == 4]), len([i for i in label1D if i == 5]), len([i for i in label1D if i == 6])))\n",
        "    return image3D, label1D\n",
        "\n",
        "train_images, train_labels = parse_dataset('/Q2_Train_Data.csv')\n",
        "valid_images, valid_labels = parse_dataset('/Q2_Validation_Data.csv')\n",
        "test_images, test_labels = parse_dataset('/Q2_Test_Data.csv')\n",
        "\n",
        "print(\"Train Image Shape: \", train_images.shape, \"Train Label Shape: \", train_labels.shape) \n",
        "print(\"Validation Image Shape: \", valid_images.shape, \"Validation Label Shape: \", valid_labels.shape) \n",
        "print(\"Test Image Shape: \", test_images.shape, \"Test Label Shape: \", test_labels.shape) \n",
        "\n",
        "# print(\"Visualizing 28th image for Anger. \")\n",
        "# print(\"Visualizing 300th image for Disgust. \")\n",
        "# print(\"Visualizing 3rd image for Fear. \")\n",
        "# print(\"Visualizing 8th image for Happy. \")\n",
        "# print(\"Visualizing 20th image for Sad. \")\n",
        "# print(\"Visualizing 16th image for Surprise. \")\n",
        "# print(\"Visualizing 14th image for Neutral. \")\n",
        "# _ = plt.imshow(train_images[13])\n",
        "# print(type(train_images))\n",
        "# print(train_labels)\n",
        "# print(train_images[2,:,:])\n",
        "# plt.show()\n",
        "\n",
        "\n",
        "# Normalize the images\n",
        "def preprocessing(dataset):\n",
        "    for image in dataset:\n",
        "        mean = np.mean(image)\n",
        "        stddev = np.std(image)\n",
        "        adjusted_stddev = max(stddev, 1.0/math.sqrt(2304))\n",
        "        for p, row in enumerate(image):\n",
        "            for q, col in enumerate(row):\n",
        "                 image[p][q] = (col - mean) / adjusted_stddev\n",
        "\n",
        "preprocessing(train_images)\n",
        "preprocessing(valid_images)\n",
        "preprocessing(test_images)\n"
      ],
      "execution_count": 38,
      "outputs": [
        {
          "output_type": "stream",
          "text": [
            "Number of samples by emotion: Angry - 3995 , Disgust - 436 , Fear - 4097 , Happy - 7215 , Sad - 4830 , Surprise - 3171 , Neutral - 4965\n",
            "Number of samples by emotion: Angry - 467 , Disgust - 56 , Fear - 496 , Happy - 895 , Sad - 653 , Surprise - 415 , Neutral - 607\n",
            "Number of samples by emotion: Angry - 491 , Disgust - 55 , Fear - 528 , Happy - 879 , Sad - 594 , Surprise - 416 , Neutral - 626\n",
            "Train Image Shape:  (28709, 48, 48) Train Label Shape:  (28709,)\n",
            "Validation Image Shape:  (3589, 48, 48) Validation Label Shape:  (3589,)\n",
            "Test Image Shape:  (3589, 48, 48) Test Label Shape:  (3589,)\n"
          ],
          "name": "stdout"
        }
      ]
    },
    {
      "cell_type": "code",
      "metadata": {
        "id": "PPF5aR-VRT9A",
        "outputId": "b18a9ed6-7fa4-4f2e-83e5-fef486b037bf",
        "colab": {
          "base_uri": "https://localhost:8080/",
          "height": 1000
        }
      },
      "source": [
        "# Build FNN models\n",
        "model0 = Sequential([\n",
        "    Dense(2304, activation='relu', input_shape=(48*48,), name=\"first_hidden_layer\"),\n",
        "    Dense(2304//2, activation='relu', name=\"second_hidden_layer\"), Dropout(0.25),\n",
        "    Dense(7, activation='softmax'),\n",
        "])\n",
        "\n",
        "model1 = Sequential([ # more layers\n",
        "    Dense(2304, activation='relu', input_shape=(48*48,), name=\"first_hidden_layer\"),\n",
        "    Dense(2304//2, activation='relu', name=\"second_hidden_layer\"), Dropout(0.25),\n",
        "    Dense(2304//2, activation='relu', name=\"third_hidden_layer\"), Dropout(0.25),\n",
        "    Dense(7, activation='softmax'),\n",
        "])\n",
        "\n",
        "model2 = Sequential([ # more layers\n",
        "    Dense(2304, activation='relu', input_shape=(48*48,), name=\"first_hidden_layer\"),\n",
        "    Dense(2304//8, activation='relu', name=\"second_hidden_layer\"), Dropout(0.25),\n",
        "    Dense(2304//8, activation='relu', name=\"third_hidden_layer\"), Dropout(0.25),\n",
        "    Dense(7, activation='softmax'),\n",
        "])\n",
        "\n",
        "model3 = Sequential([ # lower dropout\n",
        "    Dense(2304, activation='relu', input_shape=(48*48,), name=\"first_hidden_layer\"),\n",
        "    Dense(2304//2, activation='relu', name=\"second_hidden_layer\"), Dropout(0.20),\n",
        "    Dense(2304//2, activation='relu', name=\"third_hidden_layer\"), Dropout(0.20),\n",
        "    Dense(7, activation='softmax'),\n",
        "])\n",
        "\n",
        "model4 = Sequential([ # different activation\n",
        "    Dense(2304, activation='tanh', input_shape=(48*48,), name=\"first_hidden_layer\"),\n",
        "    Dense(2304//2, activation='tanh', name=\"second_hidden_layer\"), Dropout(0.20),\n",
        "    Dense(2304//2, activation='tanh', name=\"third_hidden_layer\"), Dropout(0.20),\n",
        "    Dense(7, activation='softmax'),\n",
        "])\n",
        "\n",
        "print(model0.summary())\n",
        "print(model1.summary())\n",
        "print(model2.summary())\n",
        "print(model3.summary())\n",
        "print(model4.summary())\n"
      ],
      "execution_count": 3,
      "outputs": [
        {
          "output_type": "stream",
          "text": [
            "Model: \"sequential\"\n",
            "_________________________________________________________________\n",
            "Layer (type)                 Output Shape              Param #   \n",
            "=================================================================\n",
            "first_hidden_layer (Dense)   (None, 2304)              5310720   \n",
            "_________________________________________________________________\n",
            "second_hidden_layer (Dense)  (None, 1152)              2655360   \n",
            "_________________________________________________________________\n",
            "dropout (Dropout)            (None, 1152)              0         \n",
            "_________________________________________________________________\n",
            "dense (Dense)                (None, 7)                 8071      \n",
            "=================================================================\n",
            "Total params: 7,974,151\n",
            "Trainable params: 7,974,151\n",
            "Non-trainable params: 0\n",
            "_________________________________________________________________\n",
            "None\n",
            "Model: \"sequential_1\"\n",
            "_________________________________________________________________\n",
            "Layer (type)                 Output Shape              Param #   \n",
            "=================================================================\n",
            "first_hidden_layer (Dense)   (None, 2304)              5310720   \n",
            "_________________________________________________________________\n",
            "second_hidden_layer (Dense)  (None, 1152)              2655360   \n",
            "_________________________________________________________________\n",
            "dropout_1 (Dropout)          (None, 1152)              0         \n",
            "_________________________________________________________________\n",
            "third_hidden_layer (Dense)   (None, 1152)              1328256   \n",
            "_________________________________________________________________\n",
            "dropout_2 (Dropout)          (None, 1152)              0         \n",
            "_________________________________________________________________\n",
            "dense_1 (Dense)              (None, 7)                 8071      \n",
            "=================================================================\n",
            "Total params: 9,302,407\n",
            "Trainable params: 9,302,407\n",
            "Non-trainable params: 0\n",
            "_________________________________________________________________\n",
            "None\n",
            "Model: \"sequential_2\"\n",
            "_________________________________________________________________\n",
            "Layer (type)                 Output Shape              Param #   \n",
            "=================================================================\n",
            "first_hidden_layer (Dense)   (None, 2304)              5310720   \n",
            "_________________________________________________________________\n",
            "second_hidden_layer (Dense)  (None, 288)               663840    \n",
            "_________________________________________________________________\n",
            "dropout_3 (Dropout)          (None, 288)               0         \n",
            "_________________________________________________________________\n",
            "third_hidden_layer (Dense)   (None, 288)               83232     \n",
            "_________________________________________________________________\n",
            "dropout_4 (Dropout)          (None, 288)               0         \n",
            "_________________________________________________________________\n",
            "dense_2 (Dense)              (None, 7)                 2023      \n",
            "=================================================================\n",
            "Total params: 6,059,815\n",
            "Trainable params: 6,059,815\n",
            "Non-trainable params: 0\n",
            "_________________________________________________________________\n",
            "None\n",
            "Model: \"sequential_3\"\n",
            "_________________________________________________________________\n",
            "Layer (type)                 Output Shape              Param #   \n",
            "=================================================================\n",
            "first_hidden_layer (Dense)   (None, 2304)              5310720   \n",
            "_________________________________________________________________\n",
            "second_hidden_layer (Dense)  (None, 1152)              2655360   \n",
            "_________________________________________________________________\n",
            "dropout_5 (Dropout)          (None, 1152)              0         \n",
            "_________________________________________________________________\n",
            "third_hidden_layer (Dense)   (None, 1152)              1328256   \n",
            "_________________________________________________________________\n",
            "dropout_6 (Dropout)          (None, 1152)              0         \n",
            "_________________________________________________________________\n",
            "dense_3 (Dense)              (None, 7)                 8071      \n",
            "=================================================================\n",
            "Total params: 9,302,407\n",
            "Trainable params: 9,302,407\n",
            "Non-trainable params: 0\n",
            "_________________________________________________________________\n",
            "None\n",
            "Model: \"sequential_4\"\n",
            "_________________________________________________________________\n",
            "Layer (type)                 Output Shape              Param #   \n",
            "=================================================================\n",
            "first_hidden_layer (Dense)   (None, 2304)              5310720   \n",
            "_________________________________________________________________\n",
            "second_hidden_layer (Dense)  (None, 1152)              2655360   \n",
            "_________________________________________________________________\n",
            "dropout_7 (Dropout)          (None, 1152)              0         \n",
            "_________________________________________________________________\n",
            "third_hidden_layer (Dense)   (None, 1152)              1328256   \n",
            "_________________________________________________________________\n",
            "dropout_8 (Dropout)          (None, 1152)              0         \n",
            "_________________________________________________________________\n",
            "dense_4 (Dense)              (None, 7)                 8071      \n",
            "=================================================================\n",
            "Total params: 9,302,407\n",
            "Trainable params: 9,302,407\n",
            "Non-trainable params: 0\n",
            "_________________________________________________________________\n",
            "None\n"
          ],
          "name": "stdout"
        }
      ]
    },
    {
      "cell_type": "code",
      "metadata": {
        "id": "QkvASqsjCYEL",
        "outputId": "abed69c1-85e9-4f0e-d8de-204683070668",
        "colab": {
          "base_uri": "https://localhost:8080/",
          "height": 391
        }
      },
      "source": [
        "model0.compile(optimizer='sgd', loss='categorical_crossentropy',metrics=['accuracy'],)\n",
        "\n",
        "flatten_train_images = train_images.reshape((-1, 48*48))\n",
        "flatten_valid_images = valid_images.reshape((-1, 48*48))\n",
        "print(train_labels)\n",
        "\n",
        "model0.fit(flatten_train_images, to_categorical(train_labels), epochs=10, batch_size=256,)"
      ],
      "execution_count": 12,
      "outputs": [
        {
          "output_type": "stream",
          "text": [
            "[0 0 2 ... 4 0 4]\n",
            "Epoch 1/10\n",
            "113/113 [==============================] - 1s 6ms/step - loss: 0.1321 - accuracy: 0.9821\n",
            "Epoch 2/10\n",
            "113/113 [==============================] - 1s 5ms/step - loss: 0.1274 - accuracy: 0.9837\n",
            "Epoch 3/10\n",
            "113/113 [==============================] - 1s 5ms/step - loss: 0.1274 - accuracy: 0.9832\n",
            "Epoch 4/10\n",
            "113/113 [==============================] - 1s 5ms/step - loss: 0.1216 - accuracy: 0.9827\n",
            "Epoch 5/10\n",
            "113/113 [==============================] - 1s 5ms/step - loss: 0.1237 - accuracy: 0.9838\n",
            "Epoch 6/10\n",
            "113/113 [==============================] - 1s 5ms/step - loss: 0.1140 - accuracy: 0.9865\n",
            "Epoch 7/10\n",
            "113/113 [==============================] - 1s 5ms/step - loss: 0.1081 - accuracy: 0.9878\n",
            "Epoch 8/10\n",
            "113/113 [==============================] - 1s 5ms/step - loss: 0.1072 - accuracy: 0.9864\n",
            "Epoch 9/10\n",
            "113/113 [==============================] - 1s 5ms/step - loss: 0.1024 - accuracy: 0.9883\n",
            "Epoch 10/10\n",
            "113/113 [==============================] - 1s 5ms/step - loss: 0.1021 - accuracy: 0.9884\n"
          ],
          "name": "stdout"
        },
        {
          "output_type": "execute_result",
          "data": {
            "text/plain": [
              "<tensorflow.python.keras.callbacks.History at 0x7fecc8c2c710>"
            ]
          },
          "metadata": {
            "tags": []
          },
          "execution_count": 12
        }
      ]
    },
    {
      "cell_type": "code",
      "metadata": {
        "id": "IKBduQnaQrRL",
        "outputId": "4e93b728-f99b-495e-adc0-dd9770becec3",
        "colab": {
          "base_uri": "https://localhost:8080/",
          "height": 52
        }
      },
      "source": [
        "performance0 = model0.evaluate(flatten_valid_images, to_categorical(valid_labels))\n",
        "print(\"Accuracy on Validation samples: {0}\".format(performance0[1]))"
      ],
      "execution_count": null,
      "outputs": [
        {
          "output_type": "stream",
          "text": [
            "113/113 [==============================] - 0s 2ms/step - loss: 2.0586 - accuracy: 0.4558\n",
            "Accuracy on Validation samples: 0.45583727955818176\n"
          ],
          "name": "stdout"
        }
      ]
    },
    {
      "cell_type": "code",
      "metadata": {
        "id": "j5AJ7n1JYdlb",
        "outputId": "a8567b6b-85fb-4ce6-d0d6-9313855d091e",
        "colab": {
          "base_uri": "https://localhost:8080/",
          "height": 382
        }
      },
      "source": [
        "model1.compile(optimizer='sgd', loss='categorical_crossentropy',metrics=['accuracy'],)\n",
        "\n",
        "model1.fit(flatten_train_images, to_categorical(train_labels), epochs=10, batch_size=256,)"
      ],
      "execution_count": null,
      "outputs": [
        {
          "output_type": "stream",
          "text": [
            "Epoch 1/10\n",
            "113/113 [==============================] - 1s 8ms/step - loss: 0.0911 - accuracy: 0.9789\n",
            "Epoch 2/10\n",
            "113/113 [==============================] - 1s 8ms/step - loss: 0.0867 - accuracy: 0.9797\n",
            "Epoch 3/10\n",
            "113/113 [==============================] - 1s 8ms/step - loss: 0.0740 - accuracy: 0.9852\n",
            "Epoch 4/10\n",
            "113/113 [==============================] - 1s 8ms/step - loss: 0.0745 - accuracy: 0.9839\n",
            "Epoch 5/10\n",
            "113/113 [==============================] - 1s 8ms/step - loss: 0.0708 - accuracy: 0.9854\n",
            "Epoch 6/10\n",
            "113/113 [==============================] - 1s 8ms/step - loss: 0.0672 - accuracy: 0.9862\n",
            "Epoch 7/10\n",
            "113/113 [==============================] - 1s 8ms/step - loss: 0.0639 - accuracy: 0.9869\n",
            "Epoch 8/10\n",
            "113/113 [==============================] - 1s 7ms/step - loss: 0.0631 - accuracy: 0.9868\n",
            "Epoch 9/10\n",
            "113/113 [==============================] - 1s 8ms/step - loss: 0.0612 - accuracy: 0.9872\n",
            "Epoch 10/10\n",
            "113/113 [==============================] - 1s 8ms/step - loss: 0.0582 - accuracy: 0.9879\n"
          ],
          "name": "stdout"
        },
        {
          "output_type": "execute_result",
          "data": {
            "text/plain": [
              "<tensorflow.python.keras.callbacks.History at 0x7f15baad9a58>"
            ]
          },
          "metadata": {
            "tags": []
          },
          "execution_count": 174
        }
      ]
    },
    {
      "cell_type": "code",
      "metadata": {
        "id": "WB_AEkefZboc",
        "outputId": "81a005e1-0c3f-4d24-ad0d-1b07cbd76c62",
        "colab": {
          "base_uri": "https://localhost:8080/",
          "height": 52
        }
      },
      "source": [
        "performance1 = model1.evaluate(flatten_valid_images, to_categorical(valid_labels))\n",
        "print(\"Accuracy on Validation samples: {0}\".format(performance1[1]))"
      ],
      "execution_count": null,
      "outputs": [
        {
          "output_type": "stream",
          "text": [
            "113/113 [==============================] - 0s 3ms/step - loss: 2.7568 - accuracy: 0.4528\n",
            "Accuracy on Validation samples: 0.4527723491191864\n"
          ],
          "name": "stdout"
        }
      ]
    },
    {
      "cell_type": "code",
      "metadata": {
        "id": "SQwtDqRVan9B",
        "outputId": "7a955b2d-4c6c-4c90-a340-ffebad6893c6",
        "colab": {
          "base_uri": "https://localhost:8080/",
          "height": 382
        }
      },
      "source": [
        "model2.compile(optimizer='sgd', loss='categorical_crossentropy',metrics=['accuracy'],)\n",
        "\n",
        "model2.fit(flatten_train_images, to_categorical(train_labels), epochs=10, batch_size=256,)"
      ],
      "execution_count": null,
      "outputs": [
        {
          "output_type": "stream",
          "text": [
            "Epoch 1/10\n",
            "113/113 [==============================] - 1s 6ms/step - loss: 0.0857 - accuracy: 0.9794\n",
            "Epoch 2/10\n",
            "113/113 [==============================] - 1s 6ms/step - loss: 0.1632 - accuracy: 0.9629\n",
            "Epoch 3/10\n",
            "113/113 [==============================] - 1s 6ms/step - loss: 0.1216 - accuracy: 0.9694\n",
            "Epoch 4/10\n",
            "113/113 [==============================] - 1s 6ms/step - loss: 0.0876 - accuracy: 0.9786\n",
            "Epoch 5/10\n",
            "113/113 [==============================] - 1s 6ms/step - loss: 0.0820 - accuracy: 0.9797\n",
            "Epoch 6/10\n",
            "113/113 [==============================] - 1s 6ms/step - loss: 0.0804 - accuracy: 0.9817\n",
            "Epoch 7/10\n",
            "113/113 [==============================] - 1s 6ms/step - loss: 0.0782 - accuracy: 0.9806\n",
            "Epoch 8/10\n",
            "113/113 [==============================] - 1s 6ms/step - loss: 0.0735 - accuracy: 0.9828\n",
            "Epoch 9/10\n",
            "113/113 [==============================] - 1s 6ms/step - loss: 0.0728 - accuracy: 0.9821\n",
            "Epoch 10/10\n",
            "113/113 [==============================] - 1s 6ms/step - loss: 0.0776 - accuracy: 0.9804\n"
          ],
          "name": "stdout"
        },
        {
          "output_type": "execute_result",
          "data": {
            "text/plain": [
              "<tensorflow.python.keras.callbacks.History at 0x7f159e1785c0>"
            ]
          },
          "metadata": {
            "tags": []
          },
          "execution_count": 203
        }
      ]
    },
    {
      "cell_type": "code",
      "metadata": {
        "id": "f7ii3xn4bJ3G",
        "outputId": "db47c17d-3ed0-45b4-df1e-ac8dc616a27a",
        "colab": {
          "base_uri": "https://localhost:8080/",
          "height": 52
        }
      },
      "source": [
        "performance2 = model2.evaluate(flatten_valid_images, to_categorical(valid_labels))\n",
        "print(\"Accuracy on Validation samples: {0}\".format(performance2[1]))"
      ],
      "execution_count": null,
      "outputs": [
        {
          "output_type": "stream",
          "text": [
            "113/113 [==============================] - 0s 3ms/step - loss: 3.1521 - accuracy: 0.4043\n",
            "Accuracy on Validation samples: 0.4042908847332001\n"
          ],
          "name": "stdout"
        }
      ]
    },
    {
      "cell_type": "code",
      "metadata": {
        "id": "aeTx7wxbhRPC",
        "outputId": "f16a38b2-2ec7-47cf-e2fa-922100a09b1e",
        "colab": {
          "base_uri": "https://localhost:8080/",
          "height": 374
        }
      },
      "source": [
        "model3.compile(optimizer='sgd', loss='categorical_crossentropy',metrics=['accuracy'],)\n",
        "\n",
        "model3.fit(flatten_train_images, to_categorical(train_labels), epochs=10, batch_size=256,)"
      ],
      "execution_count": 24,
      "outputs": [
        {
          "output_type": "stream",
          "text": [
            "Epoch 1/10\n",
            "113/113 [==============================] - 1s 7ms/step - loss: 0.0998 - accuracy: 0.9793\n",
            "Epoch 2/10\n",
            "113/113 [==============================] - 1s 6ms/step - loss: 0.0940 - accuracy: 0.9811\n",
            "Epoch 3/10\n",
            "113/113 [==============================] - 1s 6ms/step - loss: 0.0935 - accuracy: 0.9788\n",
            "Epoch 4/10\n",
            "113/113 [==============================] - 1s 6ms/step - loss: 0.0838 - accuracy: 0.9830\n",
            "Epoch 5/10\n",
            "113/113 [==============================] - 1s 6ms/step - loss: 0.1400 - accuracy: 0.9726\n",
            "Epoch 6/10\n",
            "113/113 [==============================] - 1s 6ms/step - loss: 0.0797 - accuracy: 0.9836\n",
            "Epoch 7/10\n",
            "113/113 [==============================] - 1s 6ms/step - loss: 0.0772 - accuracy: 0.9846\n",
            "Epoch 8/10\n",
            "113/113 [==============================] - 1s 6ms/step - loss: 0.1420 - accuracy: 0.9736\n",
            "Epoch 9/10\n",
            "113/113 [==============================] - 1s 6ms/step - loss: 0.0723 - accuracy: 0.9870\n",
            "Epoch 10/10\n",
            "113/113 [==============================] - 1s 6ms/step - loss: 0.0677 - accuracy: 0.9873\n"
          ],
          "name": "stdout"
        },
        {
          "output_type": "execute_result",
          "data": {
            "text/plain": [
              "<tensorflow.python.keras.callbacks.History at 0x7fec74e59be0>"
            ]
          },
          "metadata": {
            "tags": []
          },
          "execution_count": 24
        }
      ]
    },
    {
      "cell_type": "code",
      "metadata": {
        "id": "sUTAJL67huCz",
        "outputId": "19f78a12-8bdc-49ba-8fbb-9c93448b6b9c",
        "colab": {
          "base_uri": "https://localhost:8080/",
          "height": 52
        }
      },
      "source": [
        "performance3 = model3.evaluate(flatten_valid_images, to_categorical(valid_labels))\n",
        "print(\"Accuracy on Validation samples: {0}\".format(performance3[1]))"
      ],
      "execution_count": null,
      "outputs": [
        {
          "output_type": "stream",
          "text": [
            "113/113 [==============================] - 0s 3ms/step - loss: 2.6530 - accuracy: 0.4405\n",
            "Accuracy on Validation samples: 0.44051268696784973\n"
          ],
          "name": "stdout"
        }
      ]
    },
    {
      "cell_type": "code",
      "metadata": {
        "id": "sXIafk5cigRX",
        "outputId": "1708c266-df6c-4005-b6f3-5ca483725319",
        "colab": {
          "base_uri": "https://localhost:8080/",
          "height": 374
        }
      },
      "source": [
        "model4.compile(optimizer='sgd', loss='categorical_crossentropy',metrics=['accuracy'],)\n",
        "\n",
        "model4.fit(flatten_train_images, to_categorical(train_labels), epochs=10, batch_size=256,)"
      ],
      "execution_count": 34,
      "outputs": [
        {
          "output_type": "stream",
          "text": [
            "Epoch 1/10\n",
            "113/113 [==============================] - 1s 7ms/step - loss: 0.0757 - accuracy: 0.9850\n",
            "Epoch 2/10\n",
            "113/113 [==============================] - 1s 6ms/step - loss: 0.4057 - accuracy: 0.9214\n",
            "Epoch 3/10\n",
            "113/113 [==============================] - 1s 6ms/step - loss: 0.0704 - accuracy: 0.9859\n",
            "Epoch 4/10\n",
            "113/113 [==============================] - 1s 6ms/step - loss: 0.0601 - accuracy: 0.9898\n",
            "Epoch 5/10\n",
            "113/113 [==============================] - 1s 6ms/step - loss: 0.0527 - accuracy: 0.9917\n",
            "Epoch 6/10\n",
            "113/113 [==============================] - 1s 6ms/step - loss: 0.1935 - accuracy: 0.9647\n",
            "Epoch 7/10\n",
            "113/113 [==============================] - 1s 6ms/step - loss: 0.0531 - accuracy: 0.9909\n",
            "Epoch 8/10\n",
            "113/113 [==============================] - 1s 6ms/step - loss: 0.0488 - accuracy: 0.9918\n",
            "Epoch 9/10\n",
            "113/113 [==============================] - 1s 6ms/step - loss: 0.0606 - accuracy: 0.9887\n",
            "Epoch 10/10\n",
            "113/113 [==============================] - 1s 6ms/step - loss: 0.0448 - accuracy: 0.9927\n"
          ],
          "name": "stdout"
        },
        {
          "output_type": "execute_result",
          "data": {
            "text/plain": [
              "<tensorflow.python.keras.callbacks.History at 0x7fec6c619860>"
            ]
          },
          "metadata": {
            "tags": []
          },
          "execution_count": 34
        }
      ]
    },
    {
      "cell_type": "code",
      "metadata": {
        "id": "67b284ZjjF43",
        "outputId": "26bbbccc-15d4-4972-d38b-9a8d1af400a5",
        "colab": {
          "base_uri": "https://localhost:8080/",
          "height": 52
        }
      },
      "source": [
        "performance4 = model4.evaluate(flatten_valid_images, to_categorical(valid_labels))\n",
        "print(\"Accuracy on Validation samples: {0}\".format(performance4[1]))"
      ],
      "execution_count": null,
      "outputs": [
        {
          "output_type": "stream",
          "text": [
            "113/113 [==============================] - 0s 3ms/step - loss: 3.4006 - accuracy: 0.4377\n",
            "Accuracy on Validation samples: 0.43772637844085693\n"
          ],
          "name": "stdout"
        }
      ]
    },
    {
      "cell_type": "code",
      "metadata": {
        "id": "jfP0P9moj-jp",
        "outputId": "71ebb7f5-e2c7-4479-fd1a-e541be573922",
        "colab": {
          "base_uri": "https://localhost:8080/",
          "height": 51
        }
      },
      "source": [
        "flatten_test_images = test_images.reshape((-1, 48*48))\n",
        "performance5 = model0.evaluate(flatten_test_images, to_categorical(test_labels))\n",
        "print(\"Accuracy on Test samples: {0}\".format(performance5[1]))"
      ],
      "execution_count": 13,
      "outputs": [
        {
          "output_type": "stream",
          "text": [
            "113/113 [==============================] - 0s 3ms/step - loss: 2.0240 - accuracy: 0.4494\n",
            "Accuracy on Test samples: 0.4494287967681885\n"
          ],
          "name": "stdout"
        }
      ]
    },
    {
      "cell_type": "code",
      "metadata": {
        "id": "rJ0UiwM8pOQN",
        "outputId": "2c6fc5c1-2f4e-4a24-dafc-8e2fe619de0f",
        "colab": {
          "base_uri": "https://localhost:8080/",
          "height": 1000
        }
      },
      "source": [
        "from keras.layers import Conv2D, Flatten, MaxPooling2D\n",
        "\n",
        "common_features0 = [Conv2D(32, kernel_size=3, activation='relu', input_shape=(48,48,1)), \n",
        "            Conv2D(32, kernel_size=3, activation='relu'),\n",
        "            MaxPooling2D(pool_size=(2,2)),\n",
        "            Conv2D(64, kernel_size=3, activation='relu'),\n",
        "            Conv2D(64, kernel_size=3, activation='relu'),\n",
        "            MaxPooling2D(pool_size=(2,2)), Flatten(),]\n",
        "classifier0 = [Dense(512, activation='relu'), Dense(7, activation='softmax'),]\n",
        "\n",
        "common_features1 = [Conv2D(64, kernel_size=3, activation='relu', input_shape=(48,48,1)), \n",
        "            MaxPooling2D(pool_size=(2,2)),\n",
        "            Conv2D(128, kernel_size=3, activation='relu'),\n",
        "            MaxPooling2D(pool_size=(2,2)), Flatten(),]\n",
        "classifier1 = [Dense(512, activation='relu'), Dense(7, activation='softmax'),]\n",
        "\n",
        "common_features2 = [Conv2D(32, kernel_size=2, strides=(2,2), activation='relu', input_shape=(48,48,1)), \n",
        "            MaxPooling2D(pool_size=(2,2)),\n",
        "            Conv2D(64, kernel_size=2, strides=(2,2), activation='relu'),\n",
        "            MaxPooling2D(pool_size=(2,2)), Flatten(),]\n",
        "classifier2 = [Dense(512, activation='relu'), Dense(7, activation='softmax'),]\n",
        "\n",
        "common_features3 = [Conv2D(64, kernel_size=2, activation='relu', input_shape=(48,48,1)), \n",
        "            MaxPooling2D(pool_size=(2,2)),\n",
        "            Conv2D(128, kernel_size=2, activation='relu'),\n",
        "            MaxPooling2D(pool_size=(2,2)), Flatten(),]\n",
        "classifier3 = [Dense(512, activation='relu'), Dense(7, activation='softmax'),]\n",
        "\n",
        "cnn_model0 = Sequential(common_features0+classifier0)\n",
        "cnn_model1 = Sequential(common_features1+classifier1)\n",
        "cnn_model2 = Sequential(common_features2+classifier2)\n",
        "cnn_model3 = Sequential(common_features3+classifier3)\n",
        "\n",
        "print(cnn_model0.summary())  # Compare number of parameteres against FFN\n",
        "print(cnn_model1.summary())  # Compare number of parameteres against FFN\n",
        "print(cnn_model2.summary())  # Compare number of parameteres against FFN\n",
        "print(cnn_model3.summary())  # Compare number of parameteres against FFN"
      ],
      "execution_count": 52,
      "outputs": [
        {
          "output_type": "stream",
          "text": [
            "Model: \"sequential_39\"\n",
            "_________________________________________________________________\n",
            "Layer (type)                 Output Shape              Param #   \n",
            "=================================================================\n",
            "conv2d_120 (Conv2D)          (None, 46, 46, 32)        320       \n",
            "_________________________________________________________________\n",
            "conv2d_121 (Conv2D)          (None, 44, 44, 32)        9248      \n",
            "_________________________________________________________________\n",
            "max_pooling2d_92 (MaxPooling (None, 22, 22, 32)        0         \n",
            "_________________________________________________________________\n",
            "conv2d_122 (Conv2D)          (None, 20, 20, 64)        18496     \n",
            "_________________________________________________________________\n",
            "conv2d_123 (Conv2D)          (None, 18, 18, 64)        36928     \n",
            "_________________________________________________________________\n",
            "max_pooling2d_93 (MaxPooling (None, 9, 9, 64)          0         \n",
            "_________________________________________________________________\n",
            "flatten_46 (Flatten)         (None, 5184)              0         \n",
            "_________________________________________________________________\n",
            "dense_97 (Dense)             (None, 512)               2654720   \n",
            "_________________________________________________________________\n",
            "dense_98 (Dense)             (None, 7)                 3591      \n",
            "=================================================================\n",
            "Total params: 2,723,303\n",
            "Trainable params: 2,723,303\n",
            "Non-trainable params: 0\n",
            "_________________________________________________________________\n",
            "None\n",
            "Model: \"sequential_40\"\n",
            "_________________________________________________________________\n",
            "Layer (type)                 Output Shape              Param #   \n",
            "=================================================================\n",
            "conv2d_124 (Conv2D)          (None, 46, 46, 64)        640       \n",
            "_________________________________________________________________\n",
            "max_pooling2d_94 (MaxPooling (None, 23, 23, 64)        0         \n",
            "_________________________________________________________________\n",
            "conv2d_125 (Conv2D)          (None, 21, 21, 128)       73856     \n",
            "_________________________________________________________________\n",
            "max_pooling2d_95 (MaxPooling (None, 10, 10, 128)       0         \n",
            "_________________________________________________________________\n",
            "flatten_47 (Flatten)         (None, 12800)             0         \n",
            "_________________________________________________________________\n",
            "dense_99 (Dense)             (None, 512)               6554112   \n",
            "_________________________________________________________________\n",
            "dense_100 (Dense)            (None, 7)                 3591      \n",
            "=================================================================\n",
            "Total params: 6,632,199\n",
            "Trainable params: 6,632,199\n",
            "Non-trainable params: 0\n",
            "_________________________________________________________________\n",
            "None\n",
            "Model: \"sequential_41\"\n",
            "_________________________________________________________________\n",
            "Layer (type)                 Output Shape              Param #   \n",
            "=================================================================\n",
            "conv2d_126 (Conv2D)          (None, 24, 24, 32)        160       \n",
            "_________________________________________________________________\n",
            "max_pooling2d_96 (MaxPooling (None, 12, 12, 32)        0         \n",
            "_________________________________________________________________\n",
            "conv2d_127 (Conv2D)          (None, 6, 6, 64)          8256      \n",
            "_________________________________________________________________\n",
            "max_pooling2d_97 (MaxPooling (None, 3, 3, 64)          0         \n",
            "_________________________________________________________________\n",
            "flatten_48 (Flatten)         (None, 576)               0         \n",
            "_________________________________________________________________\n",
            "dense_101 (Dense)            (None, 512)               295424    \n",
            "_________________________________________________________________\n",
            "dense_102 (Dense)            (None, 7)                 3591      \n",
            "=================================================================\n",
            "Total params: 307,431\n",
            "Trainable params: 307,431\n",
            "Non-trainable params: 0\n",
            "_________________________________________________________________\n",
            "None\n",
            "Model: \"sequential_42\"\n",
            "_________________________________________________________________\n",
            "Layer (type)                 Output Shape              Param #   \n",
            "=================================================================\n",
            "conv2d_128 (Conv2D)          (None, 47, 47, 64)        320       \n",
            "_________________________________________________________________\n",
            "max_pooling2d_98 (MaxPooling (None, 23, 23, 64)        0         \n",
            "_________________________________________________________________\n",
            "conv2d_129 (Conv2D)          (None, 22, 22, 128)       32896     \n",
            "_________________________________________________________________\n",
            "max_pooling2d_99 (MaxPooling (None, 11, 11, 128)       0         \n",
            "_________________________________________________________________\n",
            "flatten_49 (Flatten)         (None, 15488)             0         \n",
            "_________________________________________________________________\n",
            "dense_103 (Dense)            (None, 512)               7930368   \n",
            "_________________________________________________________________\n",
            "dense_104 (Dense)            (None, 7)                 3591      \n",
            "=================================================================\n",
            "Total params: 7,967,175\n",
            "Trainable params: 7,967,175\n",
            "Non-trainable params: 0\n",
            "_________________________________________________________________\n",
            "None\n"
          ],
          "name": "stdout"
        }
      ]
    },
    {
      "cell_type": "code",
      "metadata": {
        "id": "9OZ6G0cVrTuF",
        "outputId": "4b4a0c99-3ec8-44c8-ab70-1255cf9e3417",
        "colab": {
          "base_uri": "https://localhost:8080/",
          "height": 411
        }
      },
      "source": [
        "cnn_model0.compile(optimizer='sgd', loss='categorical_crossentropy',metrics=['accuracy'],)\n",
        "\n",
        "train_images_3d = train_images.reshape(28709,48,48,1)\n",
        "valid_images_3d = valid_images.reshape(3589,48,48,1)\n",
        "test_images_3d = test_images.reshape(3589,48,48,1)\n",
        "\n",
        "cnn_model0.fit(train_images_3d, to_categorical(train_labels), epochs=10, batch_size=256,)"
      ],
      "execution_count": 85,
      "outputs": [
        {
          "output_type": "stream",
          "text": [
            "Epoch 1/10\n",
            "  1/113 [..............................] - ETA: 3s - loss: 0.2375 - accuracy: 0.9219WARNING:tensorflow:Callbacks method `on_train_batch_end` is slow compared to the batch time (batch time: 0.0134s vs `on_train_batch_end` time: 0.0274s). Check your callbacks.\n",
            "113/113 [==============================] - 3s 31ms/step - loss: 0.1844 - accuracy: 0.9669\n",
            "Epoch 2/10\n",
            "113/113 [==============================] - 3s 30ms/step - loss: 0.0301 - accuracy: 0.9958\n",
            "Epoch 3/10\n",
            "113/113 [==============================] - 3s 30ms/step - loss: 0.0238 - accuracy: 0.9961\n",
            "Epoch 4/10\n",
            "113/113 [==============================] - 3s 30ms/step - loss: 0.3407 - accuracy: 0.9331\n",
            "Epoch 5/10\n",
            "113/113 [==============================] - 3s 30ms/step - loss: 0.0284 - accuracy: 0.9966\n",
            "Epoch 6/10\n",
            "113/113 [==============================] - 3s 30ms/step - loss: 0.0233 - accuracy: 0.9962\n",
            "Epoch 7/10\n",
            "113/113 [==============================] - 3s 30ms/step - loss: 0.0232 - accuracy: 0.9961\n",
            "Epoch 8/10\n",
            "113/113 [==============================] - 3s 30ms/step - loss: 0.0216 - accuracy: 0.9962\n",
            "Epoch 9/10\n",
            "113/113 [==============================] - 3s 31ms/step - loss: 0.0200 - accuracy: 0.9964\n",
            "Epoch 10/10\n",
            "113/113 [==============================] - 3s 31ms/step - loss: 0.0201 - accuracy: 0.9962\n"
          ],
          "name": "stdout"
        },
        {
          "output_type": "execute_result",
          "data": {
            "text/plain": [
              "<tensorflow.python.keras.callbacks.History at 0x7febeaef9fd0>"
            ]
          },
          "metadata": {
            "tags": []
          },
          "execution_count": 85
        }
      ]
    },
    {
      "cell_type": "code",
      "metadata": {
        "id": "EDB66ZkgrdMT",
        "outputId": "9e00a5da-465c-4cc8-9e86-8a171fc715ff",
        "colab": {
          "base_uri": "https://localhost:8080/",
          "height": 51
        }
      },
      "source": [
        "performance0 = cnn_model0.evaluate(valid_images_3d, to_categorical(valid_labels))\n",
        "\n",
        "print(\"Accuracy on Validation samples: {0}\".format(performance0[1]))"
      ],
      "execution_count": 86,
      "outputs": [
        {
          "output_type": "stream",
          "text": [
            "113/113 [==============================] - 0s 4ms/step - loss: 3.2723 - accuracy: 0.5266\n",
            "Accuracy on Validation samples: 0.5266090631484985\n"
          ],
          "name": "stdout"
        }
      ]
    },
    {
      "cell_type": "code",
      "metadata": {
        "id": "aDHaxW_hKc_u",
        "outputId": "e44d612b-01b3-4b85-d3ef-336363dbd2ec",
        "colab": {
          "base_uri": "https://localhost:8080/",
          "height": 374
        }
      },
      "source": [
        "cnn_model1.compile(optimizer='sgd', loss='categorical_crossentropy',metrics=['accuracy'],)\n",
        "\n",
        "cnn_model1.fit(train_images_3d, to_categorical(train_labels), epochs=10, batch_size=256,)"
      ],
      "execution_count": 87,
      "outputs": [
        {
          "output_type": "stream",
          "text": [
            "Epoch 1/10\n",
            "113/113 [==============================] - 3s 29ms/step - loss: 0.0375 - accuracy: 0.9963\n",
            "Epoch 2/10\n",
            "113/113 [==============================] - 3s 29ms/step - loss: 0.0342 - accuracy: 0.9966\n",
            "Epoch 3/10\n",
            "113/113 [==============================] - 3s 29ms/step - loss: 0.5001 - accuracy: 0.9364\n",
            "Epoch 4/10\n",
            "113/113 [==============================] - 3s 29ms/step - loss: 0.0583 - accuracy: 0.9953\n",
            "Epoch 5/10\n",
            "113/113 [==============================] - 3s 29ms/step - loss: 0.0422 - accuracy: 0.9966\n",
            "Epoch 6/10\n",
            "113/113 [==============================] - 3s 29ms/step - loss: 0.0355 - accuracy: 0.9965\n",
            "Epoch 7/10\n",
            "113/113 [==============================] - 3s 29ms/step - loss: 0.0316 - accuracy: 0.9969\n",
            "Epoch 8/10\n",
            "113/113 [==============================] - 3s 29ms/step - loss: 0.0298 - accuracy: 0.9964\n",
            "Epoch 9/10\n",
            "113/113 [==============================] - 3s 29ms/step - loss: 0.0286 - accuracy: 0.9966\n",
            "Epoch 10/10\n",
            "113/113 [==============================] - 3s 29ms/step - loss: 0.0284 - accuracy: 0.9962\n"
          ],
          "name": "stdout"
        },
        {
          "output_type": "execute_result",
          "data": {
            "text/plain": [
              "<tensorflow.python.keras.callbacks.History at 0x7febea5c4358>"
            ]
          },
          "metadata": {
            "tags": []
          },
          "execution_count": 87
        }
      ]
    },
    {
      "cell_type": "code",
      "metadata": {
        "id": "S1h1i5rqOP96",
        "outputId": "418736bf-9b66-43bd-9011-ac307e8865e2",
        "colab": {
          "base_uri": "https://localhost:8080/",
          "height": 51
        }
      },
      "source": [
        "performance1 = cnn_model1.evaluate(valid_images_3d, to_categorical(valid_labels))\n",
        "\n",
        "print(\"Accuracy on Validation samples: {0}\".format(performance1[1]))"
      ],
      "execution_count": 88,
      "outputs": [
        {
          "output_type": "stream",
          "text": [
            "113/113 [==============================] - 0s 3ms/step - loss: 2.3299 - accuracy: 0.5405\n",
            "Accuracy on Validation samples: 0.5405405163764954\n"
          ],
          "name": "stdout"
        }
      ]
    },
    {
      "cell_type": "code",
      "metadata": {
        "id": "hjByq4rjO2yY",
        "outputId": "d4aa73a3-496a-48ce-d538-828ea4644b8b",
        "colab": {
          "base_uri": "https://localhost:8080/",
          "height": 374
        }
      },
      "source": [
        "cnn_model2.compile(optimizer='sgd', loss='categorical_crossentropy',metrics=['accuracy'],)\n",
        "\n",
        "cnn_model2.fit(train_images_3d, to_categorical(train_labels), epochs=10, batch_size=1024,)"
      ],
      "execution_count": 102,
      "outputs": [
        {
          "output_type": "stream",
          "text": [
            "Epoch 1/10\n",
            "29/29 [==============================] - 0s 13ms/step - loss: 1.3070 - accuracy: 0.5109\n",
            "Epoch 2/10\n",
            "29/29 [==============================] - 0s 13ms/step - loss: 1.2958 - accuracy: 0.5163\n",
            "Epoch 3/10\n",
            "29/29 [==============================] - 0s 13ms/step - loss: 1.2862 - accuracy: 0.5201\n",
            "Epoch 4/10\n",
            "29/29 [==============================] - 0s 13ms/step - loss: 1.3126 - accuracy: 0.5078\n",
            "Epoch 5/10\n",
            "29/29 [==============================] - 0s 13ms/step - loss: 1.2889 - accuracy: 0.5209\n",
            "Epoch 6/10\n",
            "29/29 [==============================] - 0s 13ms/step - loss: 1.2889 - accuracy: 0.5181\n",
            "Epoch 7/10\n",
            "29/29 [==============================] - 0s 13ms/step - loss: 1.3112 - accuracy: 0.5065\n",
            "Epoch 8/10\n",
            "29/29 [==============================] - 0s 13ms/step - loss: 1.2866 - accuracy: 0.5181\n",
            "Epoch 9/10\n",
            "29/29 [==============================] - 0s 13ms/step - loss: 1.2762 - accuracy: 0.5241\n",
            "Epoch 10/10\n",
            "29/29 [==============================] - 0s 13ms/step - loss: 1.2835 - accuracy: 0.5200\n"
          ],
          "name": "stdout"
        },
        {
          "output_type": "execute_result",
          "data": {
            "text/plain": [
              "<tensorflow.python.keras.callbacks.History at 0x7febc23a76d8>"
            ]
          },
          "metadata": {
            "tags": []
          },
          "execution_count": 102
        }
      ]
    },
    {
      "cell_type": "code",
      "metadata": {
        "id": "kpGL6semQPCi",
        "outputId": "0397eca3-9d41-4320-985f-5c959f11771f",
        "colab": {
          "base_uri": "https://localhost:8080/",
          "height": 51
        }
      },
      "source": [
        "performance2 = cnn_model2.evaluate(valid_images_3d, to_categorical(valid_labels))\n",
        "\n",
        "print(\"Accuracy on Validation samples: {0}\".format(performance2[1]))"
      ],
      "execution_count": 104,
      "outputs": [
        {
          "output_type": "stream",
          "text": [
            "113/113 [==============================] - 0s 2ms/step - loss: 1.9581 - accuracy: 0.3664\n",
            "Accuracy on Validation samples: 0.36639732122421265\n"
          ],
          "name": "stdout"
        }
      ]
    },
    {
      "cell_type": "code",
      "metadata": {
        "id": "ymEjA49RQcLZ",
        "outputId": "45910831-e580-484d-a20c-175715c586dc",
        "colab": {
          "base_uri": "https://localhost:8080/",
          "height": 374
        }
      },
      "source": [
        "cnn_model3.compile(optimizer='sgd', loss='categorical_crossentropy',metrics=['accuracy'],)\n",
        "\n",
        "cnn_model3.fit(train_images_3d, to_categorical(train_labels), epochs=10, batch_size=256,)"
      ],
      "execution_count": 113,
      "outputs": [
        {
          "output_type": "stream",
          "text": [
            "Epoch 1/10\n",
            "113/113 [==============================] - 3s 26ms/step - loss: 0.0501 - accuracy: 0.9940\n",
            "Epoch 2/10\n",
            "113/113 [==============================] - 3s 26ms/step - loss: 0.0396 - accuracy: 0.9964\n",
            "Epoch 3/10\n",
            "113/113 [==============================] - 3s 26ms/step - loss: 0.0369 - accuracy: 0.9964\n",
            "Epoch 4/10\n",
            "113/113 [==============================] - 3s 26ms/step - loss: 0.0344 - accuracy: 0.9967\n",
            "Epoch 5/10\n",
            "113/113 [==============================] - 3s 26ms/step - loss: 0.0329 - accuracy: 0.9966\n",
            "Epoch 6/10\n",
            "113/113 [==============================] - 3s 26ms/step - loss: 0.3415 - accuracy: 0.9527\n",
            "Epoch 7/10\n",
            "113/113 [==============================] - 3s 26ms/step - loss: 0.0455 - accuracy: 0.9964\n",
            "Epoch 8/10\n",
            "113/113 [==============================] - 3s 26ms/step - loss: 0.0373 - accuracy: 0.9969\n",
            "Epoch 9/10\n",
            "113/113 [==============================] - 3s 26ms/step - loss: 0.0336 - accuracy: 0.9968\n",
            "Epoch 10/10\n",
            "113/113 [==============================] - 3s 26ms/step - loss: 0.0310 - accuracy: 0.9970\n"
          ],
          "name": "stdout"
        },
        {
          "output_type": "execute_result",
          "data": {
            "text/plain": [
              "<tensorflow.python.keras.callbacks.History at 0x7febbd53ef98>"
            ]
          },
          "metadata": {
            "tags": []
          },
          "execution_count": 113
        }
      ]
    },
    {
      "cell_type": "code",
      "metadata": {
        "id": "pG9g_xQZSAhr",
        "outputId": "d1fa217b-ce6f-4092-9ca1-9fe6e352012b",
        "colab": {
          "base_uri": "https://localhost:8080/",
          "height": 51
        }
      },
      "source": [
        "performance3 = cnn_model3.evaluate(valid_images_3d, to_categorical(valid_labels))\n",
        "\n",
        "print(\"Accuracy on Validation samples: {0}\".format(performance3[1]))"
      ],
      "execution_count": 114,
      "outputs": [
        {
          "output_type": "stream",
          "text": [
            "113/113 [==============================] - 0s 3ms/step - loss: 2.2212 - accuracy: 0.5297\n",
            "Accuracy on Validation samples: 0.5296739935874939\n"
          ],
          "name": "stdout"
        }
      ]
    },
    {
      "cell_type": "code",
      "metadata": {
        "id": "s8HDXivMsWF8",
        "outputId": "58921c21-91fc-48e2-a47d-02999e8f4d3a",
        "colab": {
          "base_uri": "https://localhost:8080/",
          "height": 51
        }
      },
      "source": [
        "performance4 = cnn_model1.evaluate(test_images_3d, to_categorical(test_labels))\n",
        "\n",
        "print(\"Accuracy on Test samples: {0}\".format(performance4[1]))"
      ],
      "execution_count": 109,
      "outputs": [
        {
          "output_type": "stream",
          "text": [
            "113/113 [==============================] - 0s 4ms/step - loss: 2.1901 - accuracy: 0.5428\n",
            "Accuracy on Test samples: 0.5427695512771606\n"
          ],
          "name": "stdout"
        }
      ]
    },
    {
      "cell_type": "code",
      "metadata": {
        "id": "Gl2NNjkURY1d",
        "outputId": "2bd3f62c-e4a5-4f6f-e65e-c6c523527734",
        "colab": {
          "base_uri": "https://localhost:8080/",
          "height": 1000
        }
      },
      "source": [
        "from hyperopt import hp, fmin, tpe, STATUS_OK, Trials\n",
        "\n",
        "def optimize_cnn(hyperparameter):\n",
        "  \n",
        "  # Define model using hyperparameters \n",
        "  cnn_model4 = Sequential([Conv2D(32, kernel_size=hyperparameter['conv_kernel_size'], activation='relu', input_shape=(48,48,1)), \n",
        "            Conv2D(32, kernel_size=hyperparameter['conv_kernel_size'], activation='relu'), \n",
        "            MaxPooling2D(pool_size=(2,2)), Dropout(hyperparameter['dropout_prob']),\n",
        "            Conv2D(64, kernel_size=hyperparameter['conv_kernel_size'], activation='relu'),\n",
        "            Conv2D(64, kernel_size=hyperparameter['conv_kernel_size'], activation='relu'), \n",
        "            MaxPooling2D(pool_size=(2,2)), Dropout(hyperparameter['dropout_prob']), \n",
        "            Flatten(),\n",
        "            Dense(512, activation='relu'), \n",
        "            Dense(7, activation='softmax'),])\n",
        "  \n",
        "  cnn_model4.compile(optimizer=hyperparameter['optimizer'], loss='categorical_crossentropy', metrics=['accuracy'],)\n",
        "\n",
        "  # create a training (23924 samples) and validation (4785 samples) subsets from training images.\n",
        "  # Validation subset will be used to find the optimal hyperparameters\n",
        "  train_X, train_y = train_images_3d[:23924], train_labels[:23924]\n",
        "  valid_X, valid_y = train_images_3d[23924:], train_labels[23924:]\n",
        "\n",
        "  _ = cnn_model4.fit(train_X, to_categorical(train_y), epochs=2, batch_size=256, verbose=0)\n",
        "  # Evaluate accuracy on validation data\n",
        "  performance4 = cnn_model4.evaluate(valid_X, to_categorical(valid_y), verbose=0)\n",
        "\n",
        "  print(\"Hyperparameters: \", hyperparameter, \"Accuracy: \", performance4[1])\n",
        "  print(\"----------------------------------------------------\")\n",
        "  # We want to minimize loss i.e. negative of accuracy\n",
        "  return({\"status\": STATUS_OK, \"loss\": -1*performance4[1], \"model\":cnn_model4})\n",
        "  \n",
        "\n",
        "# Define search space for hyper-parameters\n",
        "space = {\n",
        "    # The kernel_size for convolutions:\n",
        "    'conv_kernel_size': hp.choice('conv_kernel_size', [1, 3, 5]),\n",
        "    # Uniform distribution in finding appropriate dropout values\n",
        "    'dropout_prob': hp.uniform('dropout_prob', 0.1, 0.35),\n",
        "    # Choice of optimizer \n",
        "    'optimizer': hp.choice('optimizer', ['Adam', 'sgd']),\n",
        "}\n",
        "\n",
        "trials = Trials()\n",
        "\n",
        "# Find the best hyperparameters\n",
        "best = fmin(\n",
        "        optimize_cnn,\n",
        "        space,\n",
        "        algo=tpe.suggest,\n",
        "        trials=trials,\n",
        "        max_evals=25,\n",
        "    )\n",
        "\n",
        "print(\"==================================\")\n",
        "print(\"Best Hyperparameters\", best)\n",
        "\n",
        "\n",
        "test_model = trials.results[np.argmin([r['loss'] for r in trials.results])]['model']\n",
        "\n",
        "performance5 = test_model.evaluate(test_images_3d, to_categorical(test_labels))\n",
        "\n",
        "print(\"==================================\")\n",
        "print(\"Test Accuracy: \", performance5[1])"
      ],
      "execution_count": 116,
      "outputs": [
        {
          "output_type": "stream",
          "text": [
            "Hyperparameters: \n",
            "{'conv_kernel_size': 5, 'dropout_prob': 0.28377801403041947, 'optimizer': 'Adam'}\n",
            "Accuracy: \n",
            "0.508463978767395\n",
            "----------------------------------------------------\n",
            "Hyperparameters: \n",
            "{'conv_kernel_size': 1, 'dropout_prob': 0.14430334361457262, 'optimizer': 'sgd'}\n",
            "Accuracy: \n",
            "0.25726228952407837\n",
            "----------------------------------------------------\n",
            "Hyperparameters: \n",
            "{'conv_kernel_size': 1, 'dropout_prob': 0.32484540672378465, 'optimizer': 'sgd'}\n",
            "Accuracy: \n",
            "0.2601880729198456\n",
            "----------------------------------------------------\n",
            "Hyperparameters: \n",
            "{'conv_kernel_size': 5, 'dropout_prob': 0.14020714080902222, 'optimizer': 'Adam'}\n",
            "Accuracy: \n",
            "0.47398120164871216\n",
            "----------------------------------------------------\n",
            "Hyperparameters: \n",
            "{'conv_kernel_size': 3, 'dropout_prob': 0.1504675081066891, 'optimizer': 'sgd'}\n",
            "Accuracy: \n",
            "0.25997909903526306\n",
            "----------------------------------------------------\n",
            "Hyperparameters: \n",
            "{'conv_kernel_size': 5, 'dropout_prob': 0.25124877102255794, 'optimizer': 'Adam'}\n",
            "Accuracy: \n",
            "0.48965516686439514\n",
            "----------------------------------------------------\n",
            "Hyperparameters: \n",
            "{'conv_kernel_size': 1, 'dropout_prob': 0.3345818333034984, 'optimizer': 'sgd'}\n",
            "Accuracy: \n",
            "0.2766980230808258\n",
            "----------------------------------------------------\n",
            "Hyperparameters: \n",
            "{'conv_kernel_size': 5, 'dropout_prob': 0.17832510014907688, 'optimizer': 'sgd'}\n",
            "Accuracy: \n",
            "0.26123303174972534\n",
            "----------------------------------------------------\n",
            "Hyperparameters: \n",
            "{'conv_kernel_size': 3, 'dropout_prob': 0.20924183548143088, 'optimizer': 'sgd'}\n",
            "Accuracy: \n",
            "0.28317660093307495\n",
            "----------------------------------------------------\n",
            "Hyperparameters: \n",
            "{'conv_kernel_size': 3, 'dropout_prob': 0.32377520961334405, 'optimizer': 'sgd'}\n",
            "Accuracy: \n",
            "0.28735631704330444\n",
            "----------------------------------------------------\n",
            "Hyperparameters: \n",
            "{'conv_kernel_size': 1, 'dropout_prob': 0.15128495347155732, 'optimizer': 'Adam'}\n",
            "Accuracy: \n",
            "0.39937305450439453\n",
            "----------------------------------------------------\n",
            "Hyperparameters: \n",
            "{'conv_kernel_size': 1, 'dropout_prob': 0.16940701266183944, 'optimizer': 'Adam'}\n",
            "Accuracy: \n",
            "0.3839080333709717\n",
            "----------------------------------------------------\n",
            "Hyperparameters: \n",
            "{'conv_kernel_size': 1, 'dropout_prob': 0.3116552014559029, 'optimizer': 'sgd'}\n",
            "Accuracy: \n",
            "0.2591431438922882\n",
            "----------------------------------------------------\n",
            "Hyperparameters: \n",
            "{'conv_kernel_size': 5, 'dropout_prob': 0.12985120589370366, 'optimizer': 'Adam'}\n",
            "Accuracy: \n",
            "0.4775339663028717\n",
            "----------------------------------------------------\n",
            "Hyperparameters: \n",
            "{'conv_kernel_size': 1, 'dropout_prob': 0.27886352386148805, 'optimizer': 'Adam'}\n",
            "Accuracy: \n",
            "0.39101359248161316\n",
            "----------------------------------------------------\n",
            "Hyperparameters: \n",
            "{'conv_kernel_size': 1, 'dropout_prob': 0.33252318667689545, 'optimizer': 'sgd'}\n",
            "Accuracy: \n",
            "0.27021944522857666\n",
            "----------------------------------------------------\n",
            "Hyperparameters: \n",
            "{'conv_kernel_size': 3, 'dropout_prob': 0.25349004717825374, 'optimizer': 'sgd'}\n",
            "Accuracy: \n",
            "0.26562172174453735\n",
            "----------------------------------------------------\n",
            "Hyperparameters: \n",
            "{'conv_kernel_size': 3, 'dropout_prob': 0.2650515091274754, 'optimizer': 'Adam'}\n",
            "Accuracy: \n",
            "0.48547545075416565\n",
            "----------------------------------------------------\n",
            "Hyperparameters: \n",
            "{'conv_kernel_size': 5, 'dropout_prob': 0.29709418129118664, 'optimizer': 'sgd'}\n",
            "Accuracy: \n",
            "0.25120165944099426\n",
            "----------------------------------------------------\n",
            "Hyperparameters: \n",
            "{'conv_kernel_size': 3, 'dropout_prob': 0.3257218113927514, 'optimizer': 'Adam'}\n",
            "Accuracy: \n",
            "0.48422151803970337\n",
            "----------------------------------------------------\n",
            "Hyperparameters: \n",
            "{'conv_kernel_size': 5, 'dropout_prob': 0.23617633504685698, 'optimizer': 'Adam'}\n",
            "Accuracy: \n",
            "0.5141065716743469\n",
            "----------------------------------------------------\n",
            "Hyperparameters: \n",
            "{'conv_kernel_size': 5, 'dropout_prob': 0.21512058050257304, 'optimizer': 'Adam'}\n",
            "Accuracy: \n",
            "0.5126436948776245\n",
            "----------------------------------------------------\n",
            "Hyperparameters: \n",
            "{'conv_kernel_size': 5, 'dropout_prob': 0.21925184706652376, 'optimizer': 'Adam'}\n",
            "Accuracy: \n",
            "0.5001044869422913\n",
            "----------------------------------------------------\n",
            "Hyperparameters: \n",
            "{'conv_kernel_size': 5, 'dropout_prob': 0.19783603717901685, 'optimizer': 'Adam'}\n",
            "Accuracy: \n",
            "0.4668756425380707\n",
            "----------------------------------------------------\n",
            "Hyperparameters: \n",
            "{'conv_kernel_size': 5, 'dropout_prob': 0.23722058495437257, 'optimizer': 'Adam'}\n",
            "Accuracy: \n",
            "0.5107628107070923\n",
            "----------------------------------------------------\n",
            "100%|██████████| 25/25 [02:44<00:00,  6.58s/it, best loss: -0.5141065716743469]\n",
            "==================================\n",
            "Best Hyperparameters {'conv_kernel_size': 2, 'dropout_prob': 0.23617633504685698, 'optimizer': 0}\n",
            "113/113 [==============================] - 0s 3ms/step - loss: 1.3223 - accuracy: 0.5043\n",
            "==================================\n",
            "Test Accuracy:  0.5043187737464905\n"
          ],
          "name": "stdout"
        }
      ]
    }
  ]
}